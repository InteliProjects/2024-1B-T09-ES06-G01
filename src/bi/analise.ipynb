{
 "cells": [
  {
   "cell_type": "markdown",
   "metadata": {},
   "source": [
    "# Importação das bibliotecas"
   ]
  },
  {
   "cell_type": "code",
   "execution_count": 3,
   "metadata": {},
   "outputs": [
    {
     "name": "stdout",
     "output_type": "stream",
     "text": [
      "Note: you may need to restart the kernel to use updated packages.\n",
      "Note: you may need to restart the kernel to use updated packages.\n",
      "Note: you may need to restart the kernel to use updated packages.\n"
     ]
    }
   ],
   "source": [
    "%pip install --upgrade pip --quiet\n",
    "%pip install pandas openpyxl --quiet\n",
    "%pip install matplotlib --quiet\n"
   ]
  },
  {
   "cell_type": "code",
   "execution_count": 4,
   "metadata": {},
   "outputs": [],
   "source": [
    "#Importação de bibliotecas\n",
    "import pandas as pd\n",
    "import numpy as np\n",
    "import matplotlib.pyplot as plt"
   ]
  },
  {
   "cell_type": "markdown",
   "metadata": {},
   "source": [
    "# Análise dos dados"
   ]
  },
  {
   "cell_type": "code",
   "execution_count": 5,
   "metadata": {},
   "outputs": [
    {
     "data": {
      "text/html": [
       "<div>\n",
       "<style scoped>\n",
       "    .dataframe tbody tr th:only-of-type {\n",
       "        vertical-align: middle;\n",
       "    }\n",
       "\n",
       "    .dataframe tbody tr th {\n",
       "        vertical-align: top;\n",
       "    }\n",
       "\n",
       "    .dataframe thead th {\n",
       "        text-align: right;\n",
       "    }\n",
       "</style>\n",
       "<table border=\"1\" class=\"dataframe\">\n",
       "  <thead>\n",
       "    <tr style=\"text-align: right;\">\n",
       "      <th></th>\n",
       "      <th>projeto_id</th>\n",
       "      <th>projeto_nome</th>\n",
       "      <th>projeto_setor</th>\n",
       "      <th>projeto_macrossetor</th>\n",
       "      <th>projeto_impacto</th>\n",
       "      <th>projeto_status</th>\n",
       "      <th>projeto_alcance-geografico</th>\n",
       "      <th>projeto_publico-alvo</th>\n",
       "      <th>proponente_id</th>\n",
       "      <th>proponente_nome</th>\n",
       "      <th>proponente_empresa</th>\n",
       "      <th>proponente_atuacao</th>\n",
       "      <th>proponente_cargo</th>\n",
       "      <th>avaliador_id</th>\n",
       "      <th>avaliador_nome</th>\n",
       "      <th>avaliador_empresa</th>\n",
       "      <th>avaliador_atuacao</th>\n",
       "      <th>avaliador_cargo</th>\n",
       "      <th>avaliacao</th>\n",
       "    </tr>\n",
       "  </thead>\n",
       "  <tbody>\n",
       "    <tr>\n",
       "      <th>0</th>\n",
       "      <td>1</td>\n",
       "      <td>Como Manter a Esperança?</td>\n",
       "      <td>Psicologia</td>\n",
       "      <td>Saúde e Bem-estar</td>\n",
       "      <td>Social</td>\n",
       "      <td>Em planejamento</td>\n",
       "      <td>Local</td>\n",
       "      <td>Consumidores e Empresas</td>\n",
       "      <td>1</td>\n",
       "      <td>Braian Goulart</td>\n",
       "      <td>Fundação Banco do Brasil</td>\n",
       "      <td>Terceiro Setor</td>\n",
       "      <td>COO</td>\n",
       "      <td>167</td>\n",
       "      <td>Geci Quintais</td>\n",
       "      <td>Siemens</td>\n",
       "      <td>Tecnologia Energética</td>\n",
       "      <td>Embaixador</td>\n",
       "      <td>5</td>\n",
       "    </tr>\n",
       "    <tr>\n",
       "      <th>1</th>\n",
       "      <td>1</td>\n",
       "      <td>Como Manter a Esperança?</td>\n",
       "      <td>Psicologia</td>\n",
       "      <td>Saúde e Bem-estar</td>\n",
       "      <td>Social</td>\n",
       "      <td>Em planejamento</td>\n",
       "      <td>Local</td>\n",
       "      <td>Consumidores e Empresas</td>\n",
       "      <td>1</td>\n",
       "      <td>Braian Goulart</td>\n",
       "      <td>Fundação Banco do Brasil</td>\n",
       "      <td>Terceiro Setor</td>\n",
       "      <td>COO</td>\n",
       "      <td>384</td>\n",
       "      <td>Nautilia Carneiro Nascimento Chousa</td>\n",
       "      <td>Uber</td>\n",
       "      <td>Transporte e Tecnologia</td>\n",
       "      <td>Embaixador</td>\n",
       "      <td>5</td>\n",
       "    </tr>\n",
       "    <tr>\n",
       "      <th>2</th>\n",
       "      <td>1</td>\n",
       "      <td>Como Manter a Esperança?</td>\n",
       "      <td>Psicologia</td>\n",
       "      <td>Saúde e Bem-estar</td>\n",
       "      <td>Social</td>\n",
       "      <td>Em planejamento</td>\n",
       "      <td>Local</td>\n",
       "      <td>Consumidores e Empresas</td>\n",
       "      <td>1</td>\n",
       "      <td>Braian Goulart</td>\n",
       "      <td>Fundação Banco do Brasil</td>\n",
       "      <td>Terceiro Setor</td>\n",
       "      <td>COO</td>\n",
       "      <td>499</td>\n",
       "      <td>Cleomarcos Taveira Franco Bencatel</td>\n",
       "      <td>Apple</td>\n",
       "      <td>Tecnologia</td>\n",
       "      <td>CFO</td>\n",
       "      <td>5</td>\n",
       "    </tr>\n",
       "    <tr>\n",
       "      <th>3</th>\n",
       "      <td>1</td>\n",
       "      <td>Como Manter a Esperança?</td>\n",
       "      <td>Psicologia</td>\n",
       "      <td>Saúde e Bem-estar</td>\n",
       "      <td>Social</td>\n",
       "      <td>Em planejamento</td>\n",
       "      <td>Local</td>\n",
       "      <td>Consumidores e Empresas</td>\n",
       "      <td>1</td>\n",
       "      <td>Braian Goulart</td>\n",
       "      <td>Fundação Banco do Brasil</td>\n",
       "      <td>Terceiro Setor</td>\n",
       "      <td>COO</td>\n",
       "      <td>575</td>\n",
       "      <td>Josenara Carrasqueira</td>\n",
       "      <td>Siemens</td>\n",
       "      <td>Tecnologia e Engenharia</td>\n",
       "      <td>CIO</td>\n",
       "      <td>5</td>\n",
       "    </tr>\n",
       "    <tr>\n",
       "      <th>4</th>\n",
       "      <td>1</td>\n",
       "      <td>Como Manter a Esperança?</td>\n",
       "      <td>Psicologia</td>\n",
       "      <td>Saúde e Bem-estar</td>\n",
       "      <td>Social</td>\n",
       "      <td>Em planejamento</td>\n",
       "      <td>Local</td>\n",
       "      <td>Consumidores e Empresas</td>\n",
       "      <td>1</td>\n",
       "      <td>Braian Goulart</td>\n",
       "      <td>Fundação Banco do Brasil</td>\n",
       "      <td>Terceiro Setor</td>\n",
       "      <td>COO</td>\n",
       "      <td>796</td>\n",
       "      <td>Cecil Severo</td>\n",
       "      <td>LinkedIn</td>\n",
       "      <td>Tecnologia e Networking</td>\n",
       "      <td>CFO</td>\n",
       "      <td>5</td>\n",
       "    </tr>\n",
       "  </tbody>\n",
       "</table>\n",
       "</div>"
      ],
      "text/plain": [
       "   projeto_id              projeto_nome projeto_setor projeto_macrossetor  \\\n",
       "0           1  Como Manter a Esperança?    Psicologia   Saúde e Bem-estar   \n",
       "1           1  Como Manter a Esperança?    Psicologia   Saúde e Bem-estar   \n",
       "2           1  Como Manter a Esperança?    Psicologia   Saúde e Bem-estar   \n",
       "3           1  Como Manter a Esperança?    Psicologia   Saúde e Bem-estar   \n",
       "4           1  Como Manter a Esperança?    Psicologia   Saúde e Bem-estar   \n",
       "\n",
       "  projeto_impacto   projeto_status projeto_alcance-geografico  \\\n",
       "0          Social  Em planejamento                      Local   \n",
       "1          Social  Em planejamento                      Local   \n",
       "2          Social  Em planejamento                      Local   \n",
       "3          Social  Em planejamento                      Local   \n",
       "4          Social  Em planejamento                      Local   \n",
       "\n",
       "      projeto_publico-alvo  proponente_id proponente_nome  \\\n",
       "0  Consumidores e Empresas              1  Braian Goulart   \n",
       "1  Consumidores e Empresas              1  Braian Goulart   \n",
       "2  Consumidores e Empresas              1  Braian Goulart   \n",
       "3  Consumidores e Empresas              1  Braian Goulart   \n",
       "4  Consumidores e Empresas              1  Braian Goulart   \n",
       "\n",
       "         proponente_empresa proponente_atuacao proponente_cargo  avaliador_id  \\\n",
       "0  Fundação Banco do Brasil     Terceiro Setor              COO           167   \n",
       "1  Fundação Banco do Brasil     Terceiro Setor              COO           384   \n",
       "2  Fundação Banco do Brasil     Terceiro Setor              COO           499   \n",
       "3  Fundação Banco do Brasil     Terceiro Setor              COO           575   \n",
       "4  Fundação Banco do Brasil     Terceiro Setor              COO           796   \n",
       "\n",
       "                        avaliador_nome avaliador_empresa  \\\n",
       "0                        Geci Quintais           Siemens   \n",
       "1  Nautilia Carneiro Nascimento Chousa              Uber   \n",
       "2   Cleomarcos Taveira Franco Bencatel             Apple   \n",
       "3                Josenara Carrasqueira           Siemens   \n",
       "4                         Cecil Severo          LinkedIn   \n",
       "\n",
       "         avaliador_atuacao avaliador_cargo  avaliacao  \n",
       "0    Tecnologia Energética      Embaixador          5  \n",
       "1  Transporte e Tecnologia      Embaixador          5  \n",
       "2               Tecnologia             CFO          5  \n",
       "3  Tecnologia e Engenharia             CIO          5  \n",
       "4  Tecnologia e Networking             CFO          5  "
      ]
     },
     "execution_count": 5,
     "metadata": {},
     "output_type": "execute_result"
    }
   ],
   "source": [
    "# Definir o caminho do dataset\n",
    "caminho_do_dataset = './data/processed/base-de-dados-mesclada.csv'\n",
    "\n",
    "# Ler o arquivo CSV em um DataFrame\n",
    "df = pd.read_csv(caminho_do_dataset)\n",
    "df.head()"
   ]
  },
  {
   "cell_type": "code",
   "execution_count": 6,
   "metadata": {},
   "outputs": [
    {
     "data": {
      "text/html": [
       "<div>\n",
       "<style scoped>\n",
       "    .dataframe tbody tr th:only-of-type {\n",
       "        vertical-align: middle;\n",
       "    }\n",
       "\n",
       "    .dataframe tbody tr th {\n",
       "        vertical-align: top;\n",
       "    }\n",
       "\n",
       "    .dataframe thead th {\n",
       "        text-align: right;\n",
       "    }\n",
       "</style>\n",
       "<table border=\"1\" class=\"dataframe\">\n",
       "  <thead>\n",
       "    <tr style=\"text-align: right;\">\n",
       "      <th></th>\n",
       "      <th>projeto_id</th>\n",
       "      <th>projeto_nome</th>\n",
       "      <th>projeto_setor</th>\n",
       "      <th>projeto_macrossetor</th>\n",
       "      <th>projeto_impacto</th>\n",
       "      <th>projeto_status</th>\n",
       "      <th>projeto_alcance-geografico</th>\n",
       "      <th>projeto_publico-alvo</th>\n",
       "      <th>proponente_id</th>\n",
       "      <th>proponente_nome</th>\n",
       "      <th>proponente_empresa</th>\n",
       "      <th>proponente_atuacao</th>\n",
       "      <th>proponente_cargo</th>\n",
       "      <th>avaliador_id</th>\n",
       "      <th>avaliador_nome</th>\n",
       "      <th>avaliador_empresa</th>\n",
       "      <th>avaliador_atuacao</th>\n",
       "      <th>avaliador_cargo</th>\n",
       "      <th>avaliacao</th>\n",
       "    </tr>\n",
       "  </thead>\n",
       "  <tbody>\n",
       "    <tr>\n",
       "      <th>9096</th>\n",
       "      <td>1424</td>\n",
       "      <td>Projeto Renovação</td>\n",
       "      <td>Desenvolvimento Pessoal</td>\n",
       "      <td>Educação</td>\n",
       "      <td>Social</td>\n",
       "      <td>Em andamento</td>\n",
       "      <td>Nacional</td>\n",
       "      <td>Consumidores, Empresas e Governo</td>\n",
       "      <td>1424</td>\n",
       "      <td>Damares Malho Faria</td>\n",
       "      <td>UNESCO</td>\n",
       "      <td>Cultura e arte</td>\n",
       "      <td>CEO</td>\n",
       "      <td>259</td>\n",
       "      <td>Sidnes Castilhos</td>\n",
       "      <td>Cultural Nonprofit</td>\n",
       "      <td>Cultura e Educação</td>\n",
       "      <td>CEO</td>\n",
       "      <td>1</td>\n",
       "    </tr>\n",
       "    <tr>\n",
       "      <th>9097</th>\n",
       "      <td>1424</td>\n",
       "      <td>Projeto Renovação</td>\n",
       "      <td>Desenvolvimento Pessoal</td>\n",
       "      <td>Educação</td>\n",
       "      <td>Social</td>\n",
       "      <td>Em andamento</td>\n",
       "      <td>Nacional</td>\n",
       "      <td>Consumidores, Empresas e Governo</td>\n",
       "      <td>1424</td>\n",
       "      <td>Damares Malho Faria</td>\n",
       "      <td>UNESCO</td>\n",
       "      <td>Cultura e arte</td>\n",
       "      <td>CEO</td>\n",
       "      <td>270</td>\n",
       "      <td>Sued Xisto Maior Camacho</td>\n",
       "      <td>Skillsoft</td>\n",
       "      <td>Desenvolvimento Profissional</td>\n",
       "      <td>CLO</td>\n",
       "      <td>1</td>\n",
       "    </tr>\n",
       "    <tr>\n",
       "      <th>9098</th>\n",
       "      <td>1424</td>\n",
       "      <td>Projeto Renovação</td>\n",
       "      <td>Desenvolvimento Pessoal</td>\n",
       "      <td>Educação</td>\n",
       "      <td>Social</td>\n",
       "      <td>Em andamento</td>\n",
       "      <td>Nacional</td>\n",
       "      <td>Consumidores, Empresas e Governo</td>\n",
       "      <td>1424</td>\n",
       "      <td>Damares Malho Faria</td>\n",
       "      <td>UNESCO</td>\n",
       "      <td>Cultura e arte</td>\n",
       "      <td>CEO</td>\n",
       "      <td>379</td>\n",
       "      <td>Malrina Grande Carmona Lindim</td>\n",
       "      <td>UNESCO</td>\n",
       "      <td>Educação e Cultura</td>\n",
       "      <td>CTO</td>\n",
       "      <td>1</td>\n",
       "    </tr>\n",
       "    <tr>\n",
       "      <th>9099</th>\n",
       "      <td>1424</td>\n",
       "      <td>Projeto Renovação</td>\n",
       "      <td>Desenvolvimento Pessoal</td>\n",
       "      <td>Educação</td>\n",
       "      <td>Social</td>\n",
       "      <td>Em andamento</td>\n",
       "      <td>Nacional</td>\n",
       "      <td>Consumidores, Empresas e Governo</td>\n",
       "      <td>1424</td>\n",
       "      <td>Damares Malho Faria</td>\n",
       "      <td>UNESCO</td>\n",
       "      <td>Cultura e arte</td>\n",
       "      <td>CEO</td>\n",
       "      <td>561</td>\n",
       "      <td>Valsir Cavalheiro Vasconcelos</td>\n",
       "      <td>UNESCO</td>\n",
       "      <td>Educação e Cultura</td>\n",
       "      <td>COO</td>\n",
       "      <td>1</td>\n",
       "    </tr>\n",
       "    <tr>\n",
       "      <th>9100</th>\n",
       "      <td>1424</td>\n",
       "      <td>Projeto Renovação</td>\n",
       "      <td>Desenvolvimento Pessoal</td>\n",
       "      <td>Educação</td>\n",
       "      <td>Social</td>\n",
       "      <td>Em andamento</td>\n",
       "      <td>Nacional</td>\n",
       "      <td>Consumidores, Empresas e Governo</td>\n",
       "      <td>1424</td>\n",
       "      <td>Damares Malho Faria</td>\n",
       "      <td>UNESCO</td>\n",
       "      <td>Cultura e arte</td>\n",
       "      <td>CEO</td>\n",
       "      <td>977</td>\n",
       "      <td>Odila Gaspar Taborda</td>\n",
       "      <td>Ultrapar</td>\n",
       "      <td>Energia e Petroquímica</td>\n",
       "      <td>COO</td>\n",
       "      <td>1</td>\n",
       "    </tr>\n",
       "  </tbody>\n",
       "</table>\n",
       "</div>"
      ],
      "text/plain": [
       "      projeto_id       projeto_nome            projeto_setor  \\\n",
       "9096        1424  Projeto Renovação  Desenvolvimento Pessoal   \n",
       "9097        1424  Projeto Renovação  Desenvolvimento Pessoal   \n",
       "9098        1424  Projeto Renovação  Desenvolvimento Pessoal   \n",
       "9099        1424  Projeto Renovação  Desenvolvimento Pessoal   \n",
       "9100        1424  Projeto Renovação  Desenvolvimento Pessoal   \n",
       "\n",
       "     projeto_macrossetor projeto_impacto projeto_status  \\\n",
       "9096            Educação          Social   Em andamento   \n",
       "9097            Educação          Social   Em andamento   \n",
       "9098            Educação          Social   Em andamento   \n",
       "9099            Educação          Social   Em andamento   \n",
       "9100            Educação          Social   Em andamento   \n",
       "\n",
       "     projeto_alcance-geografico              projeto_publico-alvo  \\\n",
       "9096                   Nacional  Consumidores, Empresas e Governo   \n",
       "9097                   Nacional  Consumidores, Empresas e Governo   \n",
       "9098                   Nacional  Consumidores, Empresas e Governo   \n",
       "9099                   Nacional  Consumidores, Empresas e Governo   \n",
       "9100                   Nacional  Consumidores, Empresas e Governo   \n",
       "\n",
       "      proponente_id      proponente_nome proponente_empresa  \\\n",
       "9096           1424  Damares Malho Faria             UNESCO   \n",
       "9097           1424  Damares Malho Faria             UNESCO   \n",
       "9098           1424  Damares Malho Faria             UNESCO   \n",
       "9099           1424  Damares Malho Faria             UNESCO   \n",
       "9100           1424  Damares Malho Faria             UNESCO   \n",
       "\n",
       "     proponente_atuacao proponente_cargo  avaliador_id  \\\n",
       "9096     Cultura e arte              CEO           259   \n",
       "9097     Cultura e arte              CEO           270   \n",
       "9098     Cultura e arte              CEO           379   \n",
       "9099     Cultura e arte              CEO           561   \n",
       "9100     Cultura e arte              CEO           977   \n",
       "\n",
       "                     avaliador_nome   avaliador_empresa  \\\n",
       "9096               Sidnes Castilhos  Cultural Nonprofit   \n",
       "9097       Sued Xisto Maior Camacho           Skillsoft   \n",
       "9098  Malrina Grande Carmona Lindim              UNESCO   \n",
       "9099  Valsir Cavalheiro Vasconcelos              UNESCO   \n",
       "9100           Odila Gaspar Taborda            Ultrapar   \n",
       "\n",
       "                 avaliador_atuacao avaliador_cargo  avaliacao  \n",
       "9096            Cultura e Educação             CEO          1  \n",
       "9097  Desenvolvimento Profissional             CLO          1  \n",
       "9098            Educação e Cultura             CTO          1  \n",
       "9099            Educação e Cultura             COO          1  \n",
       "9100        Energia e Petroquímica             COO          1  "
      ]
     },
     "execution_count": 6,
     "metadata": {},
     "output_type": "execute_result"
    }
   ],
   "source": [
    "#Analisando as últimas linhas do DF\n",
    "df.tail()"
   ]
  },
  {
   "cell_type": "markdown",
   "metadata": {},
   "source": [
    "## Análise inicial"
   ]
  },
  {
   "cell_type": "code",
   "execution_count": 7,
   "metadata": {},
   "outputs": [
    {
     "data": {
      "text/plain": [
       "projeto_id                    0\n",
       "projeto_nome                  0\n",
       "projeto_setor                 0\n",
       "projeto_macrossetor           0\n",
       "projeto_impacto               0\n",
       "projeto_status                0\n",
       "projeto_alcance-geografico    0\n",
       "projeto_publico-alvo          0\n",
       "proponente_id                 0\n",
       "proponente_nome               0\n",
       "proponente_empresa            0\n",
       "proponente_atuacao            0\n",
       "proponente_cargo              0\n",
       "avaliador_id                  0\n",
       "avaliador_nome                0\n",
       "avaliador_empresa             0\n",
       "avaliador_atuacao             0\n",
       "avaliador_cargo               0\n",
       "avaliacao                     0\n",
       "dtype: int64"
      ]
     },
     "execution_count": 7,
     "metadata": {},
     "output_type": "execute_result"
    }
   ],
   "source": [
    "#Análise dos dados faltantes\n",
    "df.isnull().sum()"
   ]
  },
  {
   "cell_type": "code",
   "execution_count": 8,
   "metadata": {},
   "outputs": [
    {
     "data": {
      "text/plain": [
       "projeto_id                     int64\n",
       "projeto_nome                  object\n",
       "projeto_setor                 object\n",
       "projeto_macrossetor           object\n",
       "projeto_impacto               object\n",
       "projeto_status                object\n",
       "projeto_alcance-geografico    object\n",
       "projeto_publico-alvo          object\n",
       "proponente_id                  int64\n",
       "proponente_nome               object\n",
       "proponente_empresa            object\n",
       "proponente_atuacao            object\n",
       "proponente_cargo              object\n",
       "avaliador_id                   int64\n",
       "avaliador_nome                object\n",
       "avaliador_empresa             object\n",
       "avaliador_atuacao             object\n",
       "avaliador_cargo               object\n",
       "avaliacao                      int64\n",
       "dtype: object"
      ]
     },
     "execution_count": 8,
     "metadata": {},
     "output_type": "execute_result"
    }
   ],
   "source": [
    "#Análise dos tipos dos dados\n",
    "df.dtypes"
   ]
  },
  {
   "cell_type": "code",
   "execution_count": 9,
   "metadata": {},
   "outputs": [
    {
     "data": {
      "text/html": [
       "<div>\n",
       "<style scoped>\n",
       "    .dataframe tbody tr th:only-of-type {\n",
       "        vertical-align: middle;\n",
       "    }\n",
       "\n",
       "    .dataframe tbody tr th {\n",
       "        vertical-align: top;\n",
       "    }\n",
       "\n",
       "    .dataframe thead th {\n",
       "        text-align: right;\n",
       "    }\n",
       "</style>\n",
       "<table border=\"1\" class=\"dataframe\">\n",
       "  <thead>\n",
       "    <tr style=\"text-align: right;\">\n",
       "      <th></th>\n",
       "      <th>projeto_id</th>\n",
       "      <th>proponente_id</th>\n",
       "      <th>avaliador_id</th>\n",
       "      <th>avaliacao</th>\n",
       "    </tr>\n",
       "  </thead>\n",
       "  <tbody>\n",
       "    <tr>\n",
       "      <th>count</th>\n",
       "      <td>9101.000000</td>\n",
       "      <td>9101.000000</td>\n",
       "      <td>9101.000000</td>\n",
       "      <td>9101.000000</td>\n",
       "    </tr>\n",
       "    <tr>\n",
       "      <th>mean</th>\n",
       "      <td>713.520712</td>\n",
       "      <td>713.520712</td>\n",
       "      <td>703.988573</td>\n",
       "      <td>3.041864</td>\n",
       "    </tr>\n",
       "    <tr>\n",
       "      <th>std</th>\n",
       "      <td>411.104181</td>\n",
       "      <td>411.104181</td>\n",
       "      <td>410.676694</td>\n",
       "      <td>1.309100</td>\n",
       "    </tr>\n",
       "    <tr>\n",
       "      <th>min</th>\n",
       "      <td>1.000000</td>\n",
       "      <td>1.000000</td>\n",
       "      <td>1.000000</td>\n",
       "      <td>1.000000</td>\n",
       "    </tr>\n",
       "    <tr>\n",
       "      <th>25%</th>\n",
       "      <td>354.000000</td>\n",
       "      <td>354.000000</td>\n",
       "      <td>351.000000</td>\n",
       "      <td>2.000000</td>\n",
       "    </tr>\n",
       "    <tr>\n",
       "      <th>50%</th>\n",
       "      <td>715.000000</td>\n",
       "      <td>715.000000</td>\n",
       "      <td>701.000000</td>\n",
       "      <td>3.000000</td>\n",
       "    </tr>\n",
       "    <tr>\n",
       "      <th>75%</th>\n",
       "      <td>1070.000000</td>\n",
       "      <td>1070.000000</td>\n",
       "      <td>1055.000000</td>\n",
       "      <td>4.000000</td>\n",
       "    </tr>\n",
       "    <tr>\n",
       "      <th>max</th>\n",
       "      <td>1424.000000</td>\n",
       "      <td>1424.000000</td>\n",
       "      <td>1424.000000</td>\n",
       "      <td>5.000000</td>\n",
       "    </tr>\n",
       "  </tbody>\n",
       "</table>\n",
       "</div>"
      ],
      "text/plain": [
       "        projeto_id  proponente_id  avaliador_id    avaliacao\n",
       "count  9101.000000    9101.000000   9101.000000  9101.000000\n",
       "mean    713.520712     713.520712    703.988573     3.041864\n",
       "std     411.104181     411.104181    410.676694     1.309100\n",
       "min       1.000000       1.000000      1.000000     1.000000\n",
       "25%     354.000000     354.000000    351.000000     2.000000\n",
       "50%     715.000000     715.000000    701.000000     3.000000\n",
       "75%    1070.000000    1070.000000   1055.000000     4.000000\n",
       "max    1424.000000    1424.000000   1424.000000     5.000000"
      ]
     },
     "execution_count": 9,
     "metadata": {},
     "output_type": "execute_result"
    }
   ],
   "source": [
    "#Análise descritiva das colunas númericas\n",
    "df.describe()"
   ]
  },
  {
   "cell_type": "code",
   "execution_count": 27,
   "metadata": {},
   "outputs": [
    {
     "name": "stdout",
     "output_type": "stream",
     "text": [
      "projeto_id       411.104181\n",
      "proponente_id    411.104181\n",
      "avaliador_id     410.676694\n",
      "avaliacao          1.309100\n",
      "dtype: float64\n"
     ]
    }
   ],
   "source": [
    "#Desvio padrão das colunas numéricas\n",
    "df_numeric = df.select_dtypes(include=['int'])\n",
    "std = df_numeric.std()\n",
    "print(std)\n"
   ]
  },
  {
   "cell_type": "markdown",
   "metadata": {},
   "source": [
    "## Frequência de dados"
   ]
  },
  {
   "cell_type": "code",
   "execution_count": 29,
   "metadata": {},
   "outputs": [
    {
     "data": {
      "image/png": "[encoded data removed]",
      "text/plain": [
       "<Figure size 1000x600 with 1 Axes>"
      ]
     },
     "metadata": {},
     "output_type": "display_data"
    }
   ],
   "source": [
    "avaliacoes_gerais = df['avaliacao']\n",
    "\n",
    "# Configurar o tamanho da figura e a cor do histograma\n",
    "plt.figure(figsize=(10, 6))\n",
    "plt.hist(avaliacoes_gerais, bins=5, color='skyblue', edgecolor='black')\n",
    "\n",
    "# Adicionar título e rótulos aos eixos\n",
    "plt.title('Distribuição Geral de Avaliações', fontsize=16)\n",
    "plt.xlabel('Avaliação', fontsize=12)\n",
    "plt.ylabel('Frequência', fontsize=12)\n",
    "\n",
    "# Personalizar as cores das barras\n",
    "colors = ['lightblue', 'lightgreen', 'orange', 'lightpink', 'lightyellow']\n",
    "plt.gca().set_facecolor('white')\n",
    "plt.gca().set_axisbelow(True)\n",
    "plt.gca().grid(color='gray', linestyle='dashed')\n",
    "\n",
    "# Personalizar os rótulos do eixo x\n",
    "plt.xticks(range(1, 6), ['Muito Ruim (1)', 'Ruim (2)', 'Regular (3)', 'Bom (4)', 'Muito Bom (5)'], fontsize=10)\n",
    "\n",
    "# Adicionar legenda\n",
    "legend_labels = ['Avaliações']\n",
    "plt.legend(legend_labels, loc='upper right')\n",
    "\n",
    "# Exibir o gráfico\n",
    "plt.show()"
   ]
  },
  {
   "cell_type": "code",
   "execution_count": 12,
   "metadata": {},
   "outputs": [
    {
     "name": "stdout",
     "output_type": "stream",
     "text": [
      "               projeto_id  proponente_id  avaliador_id  avaliacao\n",
      "projeto_id       1.000000       1.000000     -0.012334  -0.052548\n",
      "proponente_id    1.000000       1.000000     -0.012334  -0.052548\n",
      "avaliador_id    -0.012334      -0.012334      1.000000  -0.002804\n",
      "avaliacao       -0.052548      -0.052548     -0.002804   1.000000\n"
     ]
    }
   ],
   "source": [
    "#Identificando colunas númericas\n",
    "colunas_numericas = df.select_dtypes(exclude=[np.number]).columns.tolist()\n",
    "\n",
    "#Remover colunas não númericas\n",
    "df_numerico= df.drop(columns=colunas_numericas)\n",
    "\n",
    "#Calcular correlações entre variáveis númericas\n",
    "correlacoes = df_numerico.corr()\n",
    "print(correlacoes)"
   ]
  },
  {
   "cell_type": "code",
   "execution_count": 13,
   "metadata": {},
   "outputs": [
    {
     "name": "stdout",
     "output_type": "stream",
     "text": [
      "projeto_setor\n",
      "Educação                                1474\n",
      "Social                                   905\n",
      "Tecnologia                               649\n",
      "Sustentabilidade                         615\n",
      "Saúde                                    591\n",
      "                                        ... \n",
      "Tecnologia, Transporte                     3\n",
      "Desenvolvimento de Produto Inclusivo       2\n",
      "Educação, Negócios                         2\n",
      "Tecnologia Têxtil                          2\n",
      "Gestão da Qualidade                        1\n",
      "Name: count, Length: 203, dtype: int64\n"
     ]
    }
   ],
   "source": [
    "#Verificando as colunas categóricas\n",
    "colunas_categoricas = []\n",
    "for coluna in df.columns:\n",
    "    if df[coluna].dtype == 'object':\n",
    "        colunas_categoricas.append(coluna)\n",
    "\n",
    "df_categorico = df[colunas_categoricas]\n",
    "frequencia = df_categorico['projeto_setor'].value_counts()\n",
    "print(frequencia)"
   ]
  },
  {
   "cell_type": "code",
   "execution_count": 14,
   "metadata": {},
   "outputs": [
    {
     "name": "stdout",
     "output_type": "stream",
     "text": [
      "projeto_macrossetor\n",
      "Educação                                   2010\n",
      "Serviços Sociais                            948\n",
      "Tecnologia e Inovação                       925\n",
      "Sustentabilidade                            775\n",
      "Saúde e Bem-estar                           747\n",
      "Meio Ambiente                               531\n",
      "Ciência e Pesquisa                          498\n",
      "Tecnologia e Informação                     364\n",
      "Transporte e Logística                      282\n",
      "Arte e Cultura                              255\n",
      "Energia e Recursos                          171\n",
      "Empreendedorismo e Inovação                 162\n",
      "Desenvolvimento Urbano e Infraestrutura     161\n",
      "Engenharia                                  146\n",
      "Desenvolvimento Econômico e Empresarial     138\n",
      "Desenvolvimento Comunitário                 126\n",
      "Agricultura e Alimentação                   123\n",
      "Economia e Finanças                         117\n",
      "Gestão e Recursos Humanos                   108\n",
      "Direito e Governança                         86\n",
      "Tecnologia e Dados                           85\n",
      "Transporte e Tecnologia                      54\n",
      "Educação e Meio Ambiente                     46\n",
      "Tecnologia e Educação                        40\n",
      "Tecnologia e Meio Ambiente                   34\n",
      "Tecnologia e Saúde                           29\n",
      "Estratégia e Gestão                          25\n",
      "Comunicação e Mídia                          23\n",
      "Tecnologia e Comunicação                     12\n",
      "Saúde e Infraestrutura                       11\n",
      "Saúde e Pesquisa                             10\n",
      "Geral e Diversificado                        10\n",
      "Turismo e Lazer                               8\n",
      "Desporto e Lazer                              7\n",
      "Desenvolvimento Internacional                 7\n",
      "Turismo e Tecnologia                          6\n",
      "Saúde e Indústria                             6\n",
      "Saúde e Tecnologia                            6\n",
      "Saúde e Inovação                              5\n",
      "Marketing e Comunicação                       4\n",
      "Name: count, dtype: int64\n"
     ]
    }
   ],
   "source": [
    "frequencia = df_categorico['projeto_macrossetor'].value_counts()\n",
    "print(frequencia)"
   ]
  },
  {
   "cell_type": "code",
   "execution_count": 15,
   "metadata": {},
   "outputs": [
    {
     "name": "stdout",
     "output_type": "stream",
     "text": [
      "projeto_impacto\n",
      "Social                          2529\n",
      "Econômico                        980\n",
      "Ambiental, Econômico             845\n",
      "Ambiental                        713\n",
      "Científico                       644\n",
      "Ambiental, Social                568\n",
      "Social, Econômico                490\n",
      "Econômico, Científico            425\n",
      "Econômico, Social                324\n",
      "Social, Científico               289\n",
      "Social, Ambiental                284\n",
      "Científico, Econômico            263\n",
      "Econômico, Ambiental             177\n",
      "Cultural, Social                 102\n",
      "Ambiental, Científico             97\n",
      "Social, Cultural                  92\n",
      "Científico, Ambiental             47\n",
      "Cultural                          37\n",
      "Econômico, Organizacional         37\n",
      "Social, Ético                     34\n",
      "Cultural, Econômico               27\n",
      "Científico, Social                20\n",
      "Cultural, Ambiental               14\n",
      "Social, Legal                     12\n",
      "Social, Ambiental, Econômico      11\n",
      "Social, Bem-estar                  8\n",
      "Cultural, Científico               7\n",
      "Científico, Cultural               7\n",
      "Social, Cognitivo                  7\n",
      "Social, Saúde                      6\n",
      "Econômico, Cultural                5\n",
      "Name: count, dtype: int64\n"
     ]
    }
   ],
   "source": [
    "frequencia = df_categorico['projeto_impacto'].value_counts()\n",
    "print(frequencia)"
   ]
  },
  {
   "cell_type": "code",
   "execution_count": 16,
   "metadata": {},
   "outputs": [
    {
     "name": "stdout",
     "output_type": "stream",
     "text": [
      "projeto_status\n",
      "Em andamento       6065\n",
      "Em planejamento    3036\n",
      "Name: count, dtype: int64\n"
     ]
    }
   ],
   "source": [
    "frequencia = df_categorico['projeto_status'].value_counts()\n",
    "print(frequencia)"
   ]
  },
  {
   "cell_type": "code",
   "execution_count": 17,
   "metadata": {},
   "outputs": [
    {
     "name": "stdout",
     "output_type": "stream",
     "text": [
      "projeto_alcance-geografico\n",
      "Local       6126\n",
      "Nacional    2975\n",
      "Name: count, dtype: int64\n"
     ]
    }
   ],
   "source": [
    "frequencia = df_categorico['projeto_alcance-geografico'].value_counts()\n",
    "print(frequencia)"
   ]
  },
  {
   "cell_type": "code",
   "execution_count": 18,
   "metadata": {},
   "outputs": [
    {
     "name": "stdout",
     "output_type": "stream",
     "text": [
      "projeto_publico-alvo\n",
      "Funcionários                        2316\n",
      "População                           1197\n",
      "Empresas                            1169\n",
      "Consumidores, Empresas e Governo    1143\n",
      "Consumidores e Empresas             1121\n",
      "Funcionários e Empresas             1099\n",
      "Consumidores                        1056\n",
      "Name: count, dtype: int64\n"
     ]
    }
   ],
   "source": [
    "frequencia = df_categorico['projeto_publico-alvo'].value_counts()\n",
    "print(frequencia)"
   ]
  },
  {
   "cell_type": "code",
   "execution_count": 19,
   "metadata": {},
   "outputs": [
    {
     "name": "stdout",
     "output_type": "stream",
     "text": [
      "proponente_nome\n",
      "Bernadette Brás Mirandela            16\n",
      "Brunilda Penha                       16\n",
      "Kalline Avelar Severiano Santarém    15\n",
      "Cirlaine Meira                       15\n",
      "Ariani Feira                         15\n",
      "                                     ..\n",
      "Gilbetania Vergueiro                  1\n",
      "Germa Vidigal                         1\n",
      "Albanio Braga Frias Hernandes         1\n",
      "Dinari Cadaval Cavaco                 1\n",
      "Ariane Junqueira Barroso              1\n",
      "Name: count, Length: 1423, dtype: int64\n"
     ]
    }
   ],
   "source": [
    "frequencia = df_categorico['proponente_nome'].value_counts()\n",
    "print(frequencia)"
   ]
  },
  {
   "cell_type": "code",
   "execution_count": 20,
   "metadata": {},
   "outputs": [
    {
     "name": "stdout",
     "output_type": "stream",
     "text": [
      "proponente_empresa\n",
      "Google            1929\n",
      "Siemens            577\n",
      "UNESCO             322\n",
      "WWF                242\n",
      "Tesla              237\n",
      "                  ... \n",
      "Syngenta             2\n",
      "Itaú Unibanco        1\n",
      "C&A                  1\n",
      "Ford                 1\n",
      "Continental AG       1\n",
      "Name: count, Length: 318, dtype: int64\n"
     ]
    }
   ],
   "source": [
    "\n",
    "frequencia = df_categorico['proponente_empresa'].value_counts()\n",
    "print(frequencia)"
   ]
  },
  {
   "cell_type": "code",
   "execution_count": 21,
   "metadata": {},
   "outputs": [
    {
     "name": "stdout",
     "output_type": "stream",
     "text": [
      "proponente_atuacao\n",
      "Tecnologia                    1994\n",
      "Conservação Ambiental          289\n",
      "Educação e Cultura             214\n",
      "Educação e Pesquisa            176\n",
      "Aeroespacial                   172\n",
      "                              ... \n",
      "Educação Corporativa             2\n",
      "Desenvolvimento ambiental        2\n",
      "Clima e Ambiente                 2\n",
      "Investimentos tecnológicos       1\n",
      "Transformação Social             1\n",
      "Name: count, Length: 392, dtype: int64\n"
     ]
    }
   ],
   "source": [
    "frequencia = df_categorico['proponente_atuacao'].value_counts()\n",
    "print(frequencia)"
   ]
  },
  {
   "cell_type": "code",
   "execution_count": 22,
   "metadata": {},
   "outputs": [
    {
     "name": "stdout",
     "output_type": "stream",
     "text": [
      "proponente_cargo\n",
      "CFO           1014\n",
      "CHRO           985\n",
      "COO            982\n",
      "CCO            934\n",
      "CIO            929\n",
      "CMO            920\n",
      "Embaixador     905\n",
      "CEO            877\n",
      "CTO            805\n",
      "CLO            750\n",
      "Name: count, dtype: int64\n"
     ]
    }
   ],
   "source": [
    "frequencia = df_categorico['proponente_cargo'].value_counts()\n",
    "print(frequencia)"
   ]
  },
  {
   "cell_type": "code",
   "execution_count": 23,
   "metadata": {},
   "outputs": [
    {
     "name": "stdout",
     "output_type": "stream",
     "text": [
      "avaliador_nome\n",
      "Macelino Alencar Olaio                13\n",
      "Darlison Bernardes                    12\n",
      "Mirian Camelo Salgueiro Feijó         12\n",
      "Marquilane Jamandas Boga Magalhães    12\n",
      "Badia Quintas Magalhães               12\n",
      "                                      ..\n",
      "Reges Freiria Negrão Carmona           1\n",
      "Glaucine Brás                          1\n",
      "Lorrainy Canejo                        1\n",
      "Eranice Brásio                         1\n",
      "Elna Loio Abasto                       1\n",
      "Name: count, Length: 1423, dtype: int64\n"
     ]
    }
   ],
   "source": [
    "frequencia = df_categorico['avaliador_nome'].value_counts()\n",
    "print(frequencia)"
   ]
  },
  {
   "cell_type": "code",
   "execution_count": 24,
   "metadata": {},
   "outputs": [
    {
     "name": "stdout",
     "output_type": "stream",
     "text": [
      "avaliador_empresa\n",
      "Google                            1975\n",
      "Siemens                            575\n",
      "UNESCO                             329\n",
      "WWF                                261\n",
      "Tesla                              240\n",
      "                                  ... \n",
      "Lojas Americanas                     3\n",
      "Local Development Organization       2\n",
      "Intel                                2\n",
      "Petrobras                            2\n",
      "EY                                   2\n",
      "Name: count, Length: 318, dtype: int64\n"
     ]
    }
   ],
   "source": [
    "frequencia = df_categorico['avaliador_empresa'].value_counts()\n",
    "print(frequencia)"
   ]
  },
  {
   "cell_type": "code",
   "execution_count": 25,
   "metadata": {},
   "outputs": [
    {
     "name": "stdout",
     "output_type": "stream",
     "text": [
      "avaliador_atuacao\n",
      "Tecnologia                          2038\n",
      "Conservação Ambiental                313\n",
      "Educação e Cultura                   224\n",
      "Educação e Pesquisa                  177\n",
      "Tecnologia e Engenharia              172\n",
      "                                    ... \n",
      "Petróleo e Gás                         2\n",
      "Tecnologia e Comércio Eletrônico       2\n",
      "Cultura e diversidade                  2\n",
      "Tecnologia avançada                    1\n",
      "Redes profissionais                    1\n",
      "Name: count, Length: 392, dtype: int64\n"
     ]
    }
   ],
   "source": [
    "frequencia = df_categorico['avaliador_atuacao'].value_counts()\n",
    "print(frequencia)"
   ]
  },
  {
   "cell_type": "code",
   "execution_count": 26,
   "metadata": {},
   "outputs": [
    {
     "name": "stdout",
     "output_type": "stream",
     "text": [
      "avaliador_cargo\n",
      "CFO           1010\n",
      "CHRO           967\n",
      "Embaixador     950\n",
      "COO            940\n",
      "CIO            920\n",
      "CEO            902\n",
      "CMO            893\n",
      "CCO            893\n",
      "CTO            861\n",
      "CLO            765\n",
      "Name: count, dtype: int64\n"
     ]
    }
   ],
   "source": [
    "frequencia = df_categorico['avaliador_cargo'].value_counts()\n",
    "print(frequencia)"
   ]
  },
  {
   "cell_type": "code",
   "execution_count": 30,
   "metadata": {},
   "outputs": [
    {
     "data": {
      "image/png": "[encoded data removed]",
      "text/plain": [
       "<Figure size 640x480 with 1 Axes>"
      ]
     },
     "metadata": {},
     "output_type": "display_data"
    }
   ],
   "source": [
    "plt.scatter(range(len(df)), df['avaliacao'])\n",
    "plt.xlabel('Índice')\n",
    "plt.ylabel('Avaliação')\n",
    "plt.title('Distribuição da Avaliação')\n",
    "plt.show()"
   ]
  },
  {
   "cell_type": "code",
   "execution_count": null,
   "metadata": {},
   "outputs": [],
   "source": []
  }
 ],
 "metadata": {
  "kernelspec": {
   "display_name": "Python 3",
   "language": "python",
   "name": "python3"
  },
  "language_info": {
   "codemirror_mode": {
    "name": "ipython",
    "version": 3
   },
   "file_extension": ".py",
   "mimetype": "text/x-python",
   "name": "python",
   "nbconvert_exporter": "python",
   "pygments_lexer": "ipython3",
   "version": "3.10.10"
  }
 },
 "nbformat": 4,
 "nbformat_minor": 2
}
