{
 "cells": [
  {
   "cell_type": "markdown",
   "metadata": {},
   "source": [
    "# Instala bibliotecas"
   ]
  },
  {
   "cell_type": "code",
   "execution_count": 3,
   "metadata": {
    "metadata": {}
   },
   "outputs": [
    {
     "name": "stdout",
     "output_type": "stream",
     "text": [
      "Note: you may need to restart the kernel to use updated packages.\n",
      "Note: you may need to restart the kernel to use updated packages.\n"
     ]
    }
   ],
   "source": [
    "%pip install --upgrade pip --quiet\n",
    "%pip install pandas openpyxl --quiet"
   ]
  },
  {
   "cell_type": "markdown",
   "metadata": {},
   "source": [
    "# Importa bibliotecas"
   ]
  },
  {
   "cell_type": "code",
   "execution_count": 4,
   "metadata": {
    "metadata": {}
   },
   "outputs": [],
   "source": [
    "import pandas as pd"
   ]
  },
  {
   "cell_type": "markdown",
   "metadata": {},
   "source": [
    "# Processamento"
   ]
  },
  {
   "cell_type": "markdown",
   "metadata": {},
   "source": [
    "## Criação dos dataframes"
   ]
  },
  {
   "cell_type": "code",
   "execution_count": 5,
   "metadata": {
    "metadata": {}
   },
   "outputs": [],
   "source": [
    "# Define o caminho do dataset\n",
    "caminho_do_dataset = './data/raw/base-de-dados.xlsx'\n",
    "\n",
    "# Separa as planilhas em três dataframes\n",
    "df_ds_c_levels = pd.read_excel(caminho_do_dataset, sheet_name='ds-c-levels', header=0)\n",
    "df_ds_projetos = pd.read_excel(caminho_do_dataset, sheet_name='ds-projetos', header=0)\n",
    "df_ds_avaliacao = pd.read_excel(caminho_do_dataset, sheet_name='ds-avaliação', header=0)"
   ]
  },
  {
   "cell_type": "markdown",
   "metadata": {},
   "source": [
    "## Merge"
   ]
  },
  {
   "cell_type": "code",
   "execution_count": 6,
   "metadata": {
    "metadata": {}
   },
   "outputs": [],
   "source": [
    "# Renomeia colunas dos dataframes originais\n",
    "df_ds_projetos.rename(columns={\n",
    "    'público-alvo': 'projeto_publico-alvo',\n",
    "    'alcance geográfico': 'projeto_alcance-geografico',\n",
    "    'id': 'projeto_id',\n",
    "    'projeto': 'projeto_nome',\n",
    "    'setor': 'projeto_setor',\n",
    "    'macrosetor': 'projeto_macrossetor',\n",
    "    'impacto-esperado': 'projeto_impacto',\n",
    "    'status': 'projeto_status',\n",
    "}, inplace=True)\n",
    "\n",
    "df_ds_avaliacao.rename(columns={\n",
    "    'id_proponente': 'avaliador_id',\n",
    "    'avaliação': 'avaliacao'\n",
    "}, inplace=True)\n",
    "\n",
    "# Faz a junção das tabelas de projetos e avaliações\n",
    "df_mesclado = pd.merge(df_ds_projetos, df_ds_avaliacao, left_on='projeto_id', right_on='id_projeto').drop('id_projeto', axis=1)\n",
    "\n",
    "# Adiciona \"proponente_\" nas colunas do dataframe \"df_proponente\"\n",
    "df_proponente = df_ds_c_levels.rename(columns={\n",
    "    'proponente': 'proponente_nome',\n",
    "    'nome da empresa': 'proponente_empresa',\n",
    "    'indústria de atuação': 'proponente_atuacao',\n",
    "    'cargo': 'proponente_cargo'\n",
    "})\n",
    "\n",
    "# Faz a junção das tabelas de projetos/avaliações e usuários (em relação ao proponente)\n",
    "df_mesclado = pd.merge(df_mesclado, df_proponente, left_on='proponente_id', right_on='id').drop('id', axis=1)\n",
    "\n",
    "# Adiciona \"avaliador_\" nas colunas do dataframe \"df_avaliador\"\n",
    "df_avaliador = df_ds_c_levels.rename(columns={\n",
    "    'proponente': 'avaliador_nome',\n",
    "    'nome da empresa': 'avaliador_empresa',\n",
    "    'indústria de atuação': 'avaliador_atuacao',\n",
    "    'cargo': 'avaliador_cargo'\n",
    "})\n",
    "\n",
    "# Faz a junção das tabelas de projetos/avaliações e usuários (em relação ao proponente)\n",
    "df_mesclado = pd.merge(df_mesclado, df_avaliador, left_on='avaliador_id', right_on='id').drop('id', axis=1)\n",
    "\n",
    "# Reordena as colunas\n",
    "df_mesclado = df_mesclado[['projeto_id', 'projeto_nome', 'projeto_setor', 'projeto_macrossetor', 'projeto_impacto', 'projeto_status', 'projeto_alcance-geografico', 'projeto_publico-alvo', 'proponente_id', 'proponente_nome', 'proponente_empresa', 'proponente_atuacao', 'proponente_cargo', 'avaliador_id', 'avaliador_nome', 'avaliador_empresa', 'avaliador_atuacao', 'avaliador_cargo', 'avaliacao']]\n",
    "\n",
    "# Exporta para CSV\n",
    "df_mesclado.to_csv('./data/processed/base-de-dados-mesclada.csv', index=False)"
   ]
  },
  {
   "cell_type": "code",
   "execution_count": 7,
   "metadata": {},
   "outputs": [
    {
     "data": {
      "text/html": [
       "<div>\n",
       "<style scoped>\n",
       "    .dataframe tbody tr th:only-of-type {\n",
       "        vertical-align: middle;\n",
       "    }\n",
       "\n",
       "    .dataframe tbody tr th {\n",
       "        vertical-align: top;\n",
       "    }\n",
       "\n",
       "    .dataframe thead th {\n",
       "        text-align: right;\n",
       "    }\n",
       "</style>\n",
       "<table border=\"1\" class=\"dataframe\">\n",
       "  <thead>\n",
       "    <tr style=\"text-align: right;\">\n",
       "      <th></th>\n",
       "      <th>projeto_id</th>\n",
       "      <th>projeto_nome</th>\n",
       "      <th>projeto_setor</th>\n",
       "      <th>projeto_macrossetor</th>\n",
       "      <th>projeto_impacto</th>\n",
       "      <th>projeto_status</th>\n",
       "      <th>projeto_alcance-geografico</th>\n",
       "      <th>projeto_publico-alvo</th>\n",
       "      <th>proponente_id</th>\n",
       "      <th>proponente_nome</th>\n",
       "      <th>proponente_empresa</th>\n",
       "      <th>proponente_atuacao</th>\n",
       "      <th>proponente_cargo</th>\n",
       "      <th>avaliador_id</th>\n",
       "      <th>avaliador_nome</th>\n",
       "      <th>avaliador_empresa</th>\n",
       "      <th>avaliador_atuacao</th>\n",
       "      <th>avaliador_cargo</th>\n",
       "      <th>avaliacao</th>\n",
       "    </tr>\n",
       "  </thead>\n",
       "  <tbody>\n",
       "    <tr>\n",
       "      <th>0</th>\n",
       "      <td>1</td>\n",
       "      <td>Como Manter a Esperança?</td>\n",
       "      <td>Psicologia</td>\n",
       "      <td>Saúde e Bem-estar</td>\n",
       "      <td>Social</td>\n",
       "      <td>Em planejamento</td>\n",
       "      <td>Local</td>\n",
       "      <td>Consumidores e Empresas</td>\n",
       "      <td>1</td>\n",
       "      <td>Braian Goulart</td>\n",
       "      <td>Fundação Banco do Brasil</td>\n",
       "      <td>Terceiro Setor</td>\n",
       "      <td>COO</td>\n",
       "      <td>167</td>\n",
       "      <td>Geci Quintais</td>\n",
       "      <td>Siemens</td>\n",
       "      <td>Tecnologia Energética</td>\n",
       "      <td>Embaixador</td>\n",
       "      <td>5</td>\n",
       "    </tr>\n",
       "    <tr>\n",
       "      <th>1</th>\n",
       "      <td>1</td>\n",
       "      <td>Como Manter a Esperança?</td>\n",
       "      <td>Psicologia</td>\n",
       "      <td>Saúde e Bem-estar</td>\n",
       "      <td>Social</td>\n",
       "      <td>Em planejamento</td>\n",
       "      <td>Local</td>\n",
       "      <td>Consumidores e Empresas</td>\n",
       "      <td>1</td>\n",
       "      <td>Braian Goulart</td>\n",
       "      <td>Fundação Banco do Brasil</td>\n",
       "      <td>Terceiro Setor</td>\n",
       "      <td>COO</td>\n",
       "      <td>384</td>\n",
       "      <td>Nautilia Carneiro Nascimento Chousa</td>\n",
       "      <td>Uber</td>\n",
       "      <td>Transporte e Tecnologia</td>\n",
       "      <td>Embaixador</td>\n",
       "      <td>5</td>\n",
       "    </tr>\n",
       "    <tr>\n",
       "      <th>2</th>\n",
       "      <td>1</td>\n",
       "      <td>Como Manter a Esperança?</td>\n",
       "      <td>Psicologia</td>\n",
       "      <td>Saúde e Bem-estar</td>\n",
       "      <td>Social</td>\n",
       "      <td>Em planejamento</td>\n",
       "      <td>Local</td>\n",
       "      <td>Consumidores e Empresas</td>\n",
       "      <td>1</td>\n",
       "      <td>Braian Goulart</td>\n",
       "      <td>Fundação Banco do Brasil</td>\n",
       "      <td>Terceiro Setor</td>\n",
       "      <td>COO</td>\n",
       "      <td>499</td>\n",
       "      <td>Cleomarcos Taveira Franco Bencatel</td>\n",
       "      <td>Apple</td>\n",
       "      <td>Tecnologia</td>\n",
       "      <td>CFO</td>\n",
       "      <td>5</td>\n",
       "    </tr>\n",
       "    <tr>\n",
       "      <th>3</th>\n",
       "      <td>1</td>\n",
       "      <td>Como Manter a Esperança?</td>\n",
       "      <td>Psicologia</td>\n",
       "      <td>Saúde e Bem-estar</td>\n",
       "      <td>Social</td>\n",
       "      <td>Em planejamento</td>\n",
       "      <td>Local</td>\n",
       "      <td>Consumidores e Empresas</td>\n",
       "      <td>1</td>\n",
       "      <td>Braian Goulart</td>\n",
       "      <td>Fundação Banco do Brasil</td>\n",
       "      <td>Terceiro Setor</td>\n",
       "      <td>COO</td>\n",
       "      <td>575</td>\n",
       "      <td>Josenara Carrasqueira</td>\n",
       "      <td>Siemens</td>\n",
       "      <td>Tecnologia e Engenharia</td>\n",
       "      <td>CIO</td>\n",
       "      <td>5</td>\n",
       "    </tr>\n",
       "    <tr>\n",
       "      <th>4</th>\n",
       "      <td>1</td>\n",
       "      <td>Como Manter a Esperança?</td>\n",
       "      <td>Psicologia</td>\n",
       "      <td>Saúde e Bem-estar</td>\n",
       "      <td>Social</td>\n",
       "      <td>Em planejamento</td>\n",
       "      <td>Local</td>\n",
       "      <td>Consumidores e Empresas</td>\n",
       "      <td>1</td>\n",
       "      <td>Braian Goulart</td>\n",
       "      <td>Fundação Banco do Brasil</td>\n",
       "      <td>Terceiro Setor</td>\n",
       "      <td>COO</td>\n",
       "      <td>796</td>\n",
       "      <td>Cecil Severo</td>\n",
       "      <td>LinkedIn</td>\n",
       "      <td>Tecnologia e Networking</td>\n",
       "      <td>CFO</td>\n",
       "      <td>5</td>\n",
       "    </tr>\n",
       "  </tbody>\n",
       "</table>\n",
       "</div>"
      ],
      "text/plain": [
       "   projeto_id              projeto_nome projeto_setor projeto_macrossetor  \\\n",
       "0           1  Como Manter a Esperança?    Psicologia   Saúde e Bem-estar   \n",
       "1           1  Como Manter a Esperança?    Psicologia   Saúde e Bem-estar   \n",
       "2           1  Como Manter a Esperança?    Psicologia   Saúde e Bem-estar   \n",
       "3           1  Como Manter a Esperança?    Psicologia   Saúde e Bem-estar   \n",
       "4           1  Como Manter a Esperança?    Psicologia   Saúde e Bem-estar   \n",
       "\n",
       "  projeto_impacto   projeto_status projeto_alcance-geografico  \\\n",
       "0          Social  Em planejamento                      Local   \n",
       "1          Social  Em planejamento                      Local   \n",
       "2          Social  Em planejamento                      Local   \n",
       "3          Social  Em planejamento                      Local   \n",
       "4          Social  Em planejamento                      Local   \n",
       "\n",
       "      projeto_publico-alvo  proponente_id proponente_nome  \\\n",
       "0  Consumidores e Empresas              1  Braian Goulart   \n",
       "1  Consumidores e Empresas              1  Braian Goulart   \n",
       "2  Consumidores e Empresas              1  Braian Goulart   \n",
       "3  Consumidores e Empresas              1  Braian Goulart   \n",
       "4  Consumidores e Empresas              1  Braian Goulart   \n",
       "\n",
       "         proponente_empresa proponente_atuacao proponente_cargo  avaliador_id  \\\n",
       "0  Fundação Banco do Brasil     Terceiro Setor              COO           167   \n",
       "1  Fundação Banco do Brasil     Terceiro Setor              COO           384   \n",
       "2  Fundação Banco do Brasil     Terceiro Setor              COO           499   \n",
       "3  Fundação Banco do Brasil     Terceiro Setor              COO           575   \n",
       "4  Fundação Banco do Brasil     Terceiro Setor              COO           796   \n",
       "\n",
       "                        avaliador_nome avaliador_empresa  \\\n",
       "0                        Geci Quintais           Siemens   \n",
       "1  Nautilia Carneiro Nascimento Chousa              Uber   \n",
       "2   Cleomarcos Taveira Franco Bencatel             Apple   \n",
       "3                Josenara Carrasqueira           Siemens   \n",
       "4                         Cecil Severo          LinkedIn   \n",
       "\n",
       "         avaliador_atuacao avaliador_cargo  avaliacao  \n",
       "0    Tecnologia Energética      Embaixador          5  \n",
       "1  Transporte e Tecnologia      Embaixador          5  \n",
       "2               Tecnologia             CFO          5  \n",
       "3  Tecnologia e Engenharia             CIO          5  \n",
       "4  Tecnologia e Networking             CFO          5  "
      ]
     },
     "execution_count": 7,
     "metadata": {},
     "output_type": "execute_result"
    }
   ],
   "source": [
    "df_mesclado.head()"
   ]
  },
  {
   "cell_type": "code",
   "execution_count": 11,
   "metadata": {},
   "outputs": [
    {
     "name": "stdout",
     "output_type": "stream",
     "text": [
      "<class 'pandas.core.frame.DataFrame'>\n",
      "RangeIndex: 9101 entries, 0 to 9100\n",
      "Data columns (total 19 columns):\n",
      " #   Column                      Non-Null Count  Dtype \n",
      "---  ------                      --------------  ----- \n",
      " 0   projeto_id                  9101 non-null   int64 \n",
      " 1   projeto_nome                9101 non-null   object\n",
      " 2   projeto_setor               9101 non-null   object\n",
      " 3   projeto_macrossetor         9101 non-null   object\n",
      " 4   projeto_impacto             9101 non-null   object\n",
      " 5   projeto_status              9101 non-null   object\n",
      " 6   projeto_alcance-geografico  9101 non-null   object\n",
      " 7   projeto_publico-alvo        9101 non-null   object\n",
      " 8   proponente_id               9101 non-null   int64 \n",
      " 9   proponente_nome             9101 non-null   object\n",
      " 10  proponente_empresa          9101 non-null   object\n",
      " 11  proponente_atuacao          9101 non-null   object\n",
      " 12  proponente_cargo            9101 non-null   object\n",
      " 13  avaliador_id                9101 non-null   int64 \n",
      " 14  avaliador_nome              9101 non-null   object\n",
      " 15  avaliador_empresa           9101 non-null   object\n",
      " 16  avaliador_atuacao           9101 non-null   object\n",
      " 17  avaliador_cargo             9101 non-null   object\n",
      " 18  avaliacao                   9101 non-null   int64 \n",
      "dtypes: int64(4), object(15)\n",
      "memory usage: 1.3+ MB\n"
     ]
    }
   ],
   "source": [
    "df_mesclado.info()"
   ]
  },
  {
   "cell_type": "code",
   "execution_count": 8,
   "metadata": {},
   "outputs": [
    {
     "name": "stdout",
     "output_type": "stream",
     "text": [
      "O dataset final possui 9101 linhas e 19 colunas.\n"
     ]
    }
   ],
   "source": [
    "print(f'O dataset final possui {df_mesclado.shape[0]} linhas e {df_mesclado.shape[1]} colunas.')"
   ]
  }
 ],
 "metadata": {
  "kernelspec": {
   "display_name": "Python 3",
   "language": "python",
   "name": "python3"
  },
  "language_info": {
   "codemirror_mode": {
    "name": "ipython",
    "version": 3
   },
   "file_extension": ".py",
   "mimetype": "text/x-python",
   "name": "python",
   "nbconvert_exporter": "python",
   "pygments_lexer": "ipython3",
   "version": "3.11.3"
  }
 },
 "nbformat": 4,
 "nbformat_minor": 2
}
